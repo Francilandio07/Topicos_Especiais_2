{
  "cells": [
    {
      "cell_type": "code",
      "execution_count": 1,
      "metadata": {},
      "outputs": [
        {
          "name": "stdout",
          "output_type": "stream",
          "text": [
            "Requirement already satisfied: matplotlib in c:\\users\\franc\\appdata\\local\\programs\\python\\python310\\lib\\site-packages (3.8.0)Note: you may need to restart the kernel to use updated packages.\n"
          ]
        },
        {
          "name": "stderr",
          "output_type": "stream",
          "text": [
            "\n",
            "[notice] A new release of pip available: 22.2.1 -> 23.2.1\n",
            "[notice] To update, run: python.exe -m pip install --upgrade pip\n"
          ]
        },
        {
          "name": "stdout",
          "output_type": "stream",
          "text": [
            "\n",
            "Requirement already satisfied: numpy<2,>=1.21 in c:\\users\\franc\\appdata\\local\\programs\\python\\python310\\lib\\site-packages (from matplotlib) (1.25.2)\n",
            "Requirement already satisfied: python-dateutil>=2.7 in c:\\users\\franc\\appdata\\roaming\\python\\python310\\site-packages (from matplotlib) (2.8.2)\n",
            "Requirement already satisfied: pillow>=6.2.0 in c:\\users\\franc\\appdata\\local\\programs\\python\\python310\\lib\\site-packages (from matplotlib) (10.0.1)\n",
            "Requirement already satisfied: pyparsing>=2.3.1 in c:\\users\\franc\\appdata\\local\\programs\\python\\python310\\lib\\site-packages (from matplotlib) (3.1.1)\n",
            "Requirement already satisfied: packaging>=20.0 in c:\\users\\franc\\appdata\\roaming\\python\\python310\\site-packages (from matplotlib) (23.1)\n",
            "Requirement already satisfied: cycler>=0.10 in c:\\users\\franc\\appdata\\local\\programs\\python\\python310\\lib\\site-packages (from matplotlib) (0.11.0)\n",
            "Requirement already satisfied: fonttools>=4.22.0 in c:\\users\\franc\\appdata\\local\\programs\\python\\python310\\lib\\site-packages (from matplotlib) (4.42.1)\n",
            "Requirement already satisfied: kiwisolver>=1.0.1 in c:\\users\\franc\\appdata\\local\\programs\\python\\python310\\lib\\site-packages (from matplotlib) (1.4.5)\n",
            "Requirement already satisfied: contourpy>=1.0.1 in c:\\users\\franc\\appdata\\local\\programs\\python\\python310\\lib\\site-packages (from matplotlib) (1.1.1)\n",
            "Requirement already satisfied: six>=1.5 in c:\\users\\franc\\appdata\\roaming\\python\\python310\\site-packages (from python-dateutil>=2.7->matplotlib) (1.16.0)\n"
          ]
        }
      ],
      "source": [
        "pip install matplotlib"
      ]
    },
    {
      "cell_type": "code",
      "execution_count": 7,
      "metadata": {
        "id": "kaGV-CJT7eS2"
      },
      "outputs": [],
      "source": [
        "import csv\n",
        "import time\n",
        "import sys\n",
        "import tracemalloc\n",
        "import pickle\n",
        "import psutil\n",
        "import os\n",
        "import numpy as np\n",
        "import matplotlib.pyplot as plt"
      ]
    },
    {
      "cell_type": "code",
      "execution_count": 3,
      "metadata": {
        "id": "Q1lEe_l7CJWM"
      },
      "outputs": [],
      "source": [
        "naoordenados = [r'C:\\Users\\franc\\Disciplinas\\Topicos Especiais em computacao 2\\Trabalho 1\\Nao_ordenados\\100.txt',r'C:\\Users\\franc\\Disciplinas\\Topicos Especiais em computacao 2\\Trabalho 1\\Nao_ordenados\\200.txt',r'C:\\Users\\franc\\Disciplinas\\Topicos Especiais em computacao 2\\Trabalho 1\\Nao_ordenados\\1000.txt',r'C:\\Users\\franc\\Disciplinas\\Topicos Especiais em computacao 2\\Trabalho 1\\Nao_ordenados\\2000.txt',r'C:\\Users\\franc\\Disciplinas\\Topicos Especiais em computacao 2\\Trabalho 1\\Nao_ordenados\\5000.txt',r'C:\\Users\\franc\\Disciplinas\\Topicos Especiais em computacao 2\\Trabalho 1\\Nao_ordenados\\10000.txt',r'C:\\Users\\franc\\Disciplinas\\Topicos Especiais em computacao 2\\Trabalho 1\\Nao_ordenados\\50000.txt',r'C:\\Users\\franc\\Disciplinas\\Topicos Especiais em computacao 2\\Trabalho 1\\Nao_ordenados\\100000.txt',r'C:\\Users\\franc\\Disciplinas\\Topicos Especiais em computacao 2\\Trabalho 1\\Nao_ordenados\\500000.txt',r'C:\\Users\\franc\\Disciplinas\\Topicos Especiais em computacao 2\\Trabalho 1\\Nao_ordenados\\1000000.txt',r'C:\\Users\\franc\\Disciplinas\\Topicos Especiais em computacao 2\\Trabalho 1\\Nao_ordenados\\5000000.txt',r'C:\\Users\\franc\\Disciplinas\\Topicos Especiais em computacao 2\\Trabalho 1\\Nao_ordenados\\10000000.txt',r'C:\\Users\\franc\\Disciplinas\\Topicos Especiais em computacao 2\\Trabalho 1\\Nao_ordenados\\100000000.txt']"
      ]
    },
    {
      "cell_type": "markdown",
      "metadata": {
        "id": "S1nyVR4GXqXL"
      },
      "source": [
        "#Trabalho 1"
      ]
    },
    {
      "cell_type": "code",
      "execution_count": null,
      "metadata": {
        "id": "J3ImkXLGXeHm"
      },
      "outputs": [],
      "source": [
        "#Busca Sequencial\n",
        "\n",
        "def buscaSequencial_v1(x, v):\n",
        "    indice = -1\n",
        "    for i in range(len(v)):\n",
        "        if v[i] == x:\n",
        "            indice = i\n",
        "    return indice\n",
        "\n",
        "def buscaSequencial_v2(x, v):\n",
        "    for i in range(len(v)):\n",
        "        if v[i] == x:\n",
        "            return i\n",
        "    return -1\n",
        "\n",
        "def buscaSequencialv1Auto(ordenados, naoordenados):\n",
        "  tracemalloc.start()\n",
        "\n",
        "  buscasequencialv1naoordenado = {\"memoria\":{}, \"tempo\":{}}\n",
        "  buscasequencialv1ordenado = {\"memoria\":{}, \"tempo\":{}}\n",
        "\n",
        "\n",
        "  for arquivo in (ordenados):\n",
        "    arrayo = []\n",
        "    with open(arquivo, 'r') as file:\n",
        "        readero = csv.reader(file)\n",
        "        for line in readero:\n",
        "            for token in line:\n",
        "                arrayo.append(int(token))\n",
        "\n",
        "\n",
        "    startMemoryo, _ = tracemalloc.get_traced_memory()\n",
        "    startTimeo = time.time()\n",
        "    buscaSequencial_v1(arrayo[len(arrayo) - 1], arrayo)\n",
        "    endTimeo = time.time()\n",
        "    endMemoryo, _ = tracemalloc.get_traced_memory()\n",
        "\n",
        "    totalTimeo = endTimeo - startTimeo\n",
        "    totalMemoryo = (endMemoryo - startMemoryo)\n",
        "\n",
        "    buscasequencialv1ordenado['memoria'][arquivo] = totalMemoryo\n",
        "    buscasequencialv1ordenado['tempo'][arquivo] = totalTimeo\n",
        "\n",
        "  for arquivo in (naoordenados):\n",
        "    arrayn = []\n",
        "    with open(arquivo, 'r') as file:\n",
        "        readern = csv.reader(file)\n",
        "        for line in readern:\n",
        "            for token in line:\n",
        "                arrayn.append(int(token))\n",
        "\n",
        "\n",
        "    startMemoryn, _ = tracemalloc.get_traced_memory()\n",
        "    startTimen = time.time()\n",
        "    buscaSequencial_v1(arrayn[len(arrayn) - 1], arrayn)\n",
        "    endTimen = time.time()\n",
        "    endMemoryn, _ = tracemalloc.get_traced_memory()\n",
        "\n",
        "    totalTimen = endTimen - startTimen\n",
        "    totalMemoryn = (endMemoryn - startMemoryn)\n",
        "\n",
        "    buscasequencialv1naoordenado['memoria'][arquivo] = totalMemoryo\n",
        "    buscasequencialv1naoordenado['tempo'][arquivo] = totalTimeo\n",
        "\n",
        "  return buscasequencialv1ordenado, buscasequencialv1naoordenado\n",
        "\n",
        "v1ordenado, v1naoordenado = buscaSequencialv1Auto(ordenados, naoordenados)\n",
        "\n",
        "with open(\"BuscaSequencialv1Ordenada.pkl\", \"wb\") as f:\n",
        "    # Usa a função dump para salvar o dicionário no arquivo\n",
        "    pickle.dump(v1ordenado, f)\n",
        "\n",
        "with open(\"BuscaSequencialv1NaoOrdenada.pkl\", \"wb\") as f:\n",
        "    # Usa a função dump para salvar o dicionário no arquivo\n",
        "    pickle.dump(v1naoordenado, f)\n",
        "\n"
      ]
    },
    {
      "cell_type": "code",
      "execution_count": null,
      "metadata": {
        "id": "0Ldy5Ys_LmG5"
      },
      "outputs": [],
      "source": [
        "def buscaSequencialv2Auto(ordenados, naoordenados):\n",
        "  tracemalloc.start()\n",
        "\n",
        "  buscasequencialv2naoordenado = {\"memoria\":{}, \"tempo\":{}}\n",
        "  buscasequencialv2ordenado = {\"memoria\":{}, \"tempo\":{}}\n",
        "\n",
        "\n",
        "  for arquivo in (ordenados):\n",
        "    arrayo = []\n",
        "    with open(arquivo, 'r') as file:\n",
        "        readero = csv.reader(file)\n",
        "        for line in readero:\n",
        "            for token in line:\n",
        "                arrayo.append(int(token))\n",
        "\n",
        "\n",
        "    startMemoryo, _ = tracemalloc.get_traced_memory()\n",
        "    startTimeo = time.time()\n",
        "    buscaSequencial_v2(arrayo[len(arrayo) - 1], arrayo)\n",
        "    endTimeo = time.time()\n",
        "    endMemoryo, _ = tracemalloc.get_traced_memory()\n",
        "\n",
        "    totalTimeo = endTimeo - startTimeo\n",
        "    totalMemoryo = (endMemoryo - startMemoryo)\n",
        "\n",
        "    buscasequencialv2ordenado['memoria'][arquivo] = totalMemoryo\n",
        "    buscasequencialv2ordenado['tempo'][arquivo] = totalTimeo\n",
        "\n",
        "  for arquivo in (naoordenados):\n",
        "    arrayn = []\n",
        "    with open(arquivo, 'r') as file:\n",
        "        readern = csv.reader(file)\n",
        "        for line in readern:\n",
        "            for token in line:\n",
        "                arrayn.append(int(token))\n",
        "\n",
        "\n",
        "    startMemoryn, _ = tracemalloc.get_traced_memory()\n",
        "    startTimen = time.time()\n",
        "    buscaSequencial_v2(arrayn[len(arrayn) - 1], arrayn)\n",
        "    endTimen = time.time()\n",
        "    endMemoryn, _ = tracemalloc.get_traced_memory()\n",
        "\n",
        "    totalTimen = endTimen - startTimen\n",
        "    totalMemoryn = (endMemoryn - startMemoryn)\n",
        "\n",
        "    buscasequencialv2naoordenado['memoria'][arquivo] = totalMemoryo\n",
        "    buscasequencialv2naoordenado['tempo'][arquivo] = totalTimeo\n",
        "\n",
        "  return buscasequencialv2ordenado, buscasequencialv2naoordenado\n",
        "\n",
        "v2ordenado, v2naoordenado = buscaSequencialv2Auto(ordenados, naoordenados)\n",
        "\n",
        "with open(\"BuscaSequencialv2Ordenada.pkl\", \"wb\") as f:\n",
        "    # Usa a função dump para salvar o dicionário no arquivo\n",
        "    pickle.dump(v2ordenado, f)\n",
        "\n",
        "with open(\"BuscaSequencialv2NaoOrdenada.pkl\", \"wb\") as f:\n",
        "    # Usa a função dump para salvar o dicionário no arquivo\n",
        "    pickle.dump(v2naoordenado, f)"
      ]
    },
    {
      "cell_type": "code",
      "execution_count": null,
      "metadata": {
        "id": "o1TimPQBdRfL"
      },
      "outputs": [],
      "source": [
        "#Busca Ternaria\n",
        "\n",
        "def bt(vet, n, x):\n",
        "    inicio = 0\n",
        "    fim = n - 1\n",
        "    while inicio <= fim:\n",
        "        meio_esquerdo = inicio + (fim - inicio) // 3\n",
        "        meio_direito = fim - (fim - inicio) // 3\n",
        "        if vet[meio_esquerdo] == x:\n",
        "            return meio_esquerdo\n",
        "        elif vet[meio_direito] == x:\n",
        "            return meio_direito\n",
        "        elif vet[meio_esquerdo] > x:\n",
        "            fim = meio_esquerdo - 1\n",
        "        elif vet[meio_direito] < x:\n",
        "            inicio = meio_direito + 1\n",
        "        else:\n",
        "            inicio = meio_esquerdo + 1\n",
        "            fim = meio_direito - 1\n",
        "    return -1\n",
        "\n",
        "\n",
        "def buscaTernariaAuto(ordenados):\n",
        "  tracemalloc.start()\n",
        "\n",
        "  buscaternariaordenado = {\"memoria\":{}, \"tempo\":{}}\n",
        "\n",
        "\n",
        "  for arquivo in (ordenados):\n",
        "    arrayo = []\n",
        "    with open(arquivo, 'r') as file:\n",
        "        readero = csv.reader(file)\n",
        "        for line in readero:\n",
        "            for token in line:\n",
        "                arrayo.append(int(token))\n",
        "\n",
        "\n",
        "    startMemoryo, _ = tracemalloc.get_traced_memory()\n",
        "    startTimeo = time.time()\n",
        "    bt(arrayo, len(arrayo), arrayo[len(arrayo) - 1])\n",
        "    endTimeo = time.time()\n",
        "    endMemoryo, _ = tracemalloc.get_traced_memory()\n",
        "\n",
        "    totalTimeo = endTimeo - startTimeo\n",
        "    totalMemoryo = (endMemoryo - startMemoryo)\n",
        "\n",
        "    buscaternariaordenado['memoria'][arquivo] = totalMemoryo\n",
        "    buscaternariaordenado['tempo'][arquivo] = totalTimeo\n",
        "\n",
        "\n",
        "  return buscaternariaordenado\n",
        "\n",
        "dicbuscaternaria = buscaTernariaAuto(ordenados)\n",
        "\n",
        "with open(\"buscaTernaria.pkl\", \"wb\") as f:\n",
        "    # Usa a função dump para salvar o dicionário no arquivo\n",
        "    pickle.dump(dicbuscaternaria, f)"
      ]
    },
    {
      "cell_type": "code",
      "execution_count": null,
      "metadata": {
        "id": "yP-Vc7pkdRWu"
      },
      "outputs": [],
      "source": [
        "#Pesquisa Binaria\n",
        "\n",
        "def PesquisaBinaria(x, v, e, d):\n",
        "    meio = (e + d) // 2\n",
        "    if v[meio] == x:\n",
        "        return meio\n",
        "    if e >= d:\n",
        "        return -1\n",
        "    elif v[meio] < x:\n",
        "        return PesquisaBinaria(x, v, meio + 1, d)\n",
        "    else:\n",
        "        return PesquisaBinaria(x, v, e, meio - 1)\n",
        "\n",
        "def buscaBinariaAuto(ordenados):\n",
        "  tracemalloc.start()\n",
        "\n",
        "  buscabinariaordenado = {\"memoria\":{}, \"tempo\":{}}\n",
        "\n",
        "\n",
        "  for arquivo in (ordenados):\n",
        "    arrayo = []\n",
        "    with open(arquivo, 'r') as file:\n",
        "        readero = csv.reader(file)\n",
        "        for line in readero:\n",
        "            for token in line:\n",
        "                arrayo.append(int(token))\n",
        "\n",
        "\n",
        "    startMemoryo, _ = tracemalloc.get_traced_memory()\n",
        "    startTimeo = time.time()\n",
        "    PesquisaBinaria(arrayo[len(arrayo) - 1], arrayo, 0, len(arrayo))\n",
        "    endTimeo = time.time()\n",
        "    endMemoryo, _ = tracemalloc.get_traced_memory()\n",
        "\n",
        "    totalTimeo = endTimeo - startTimeo\n",
        "    totalMemoryo = (endMemoryo - startMemoryo)\n",
        "\n",
        "    buscabinariaordenado['memoria'][arquivo] = totalMemoryo\n",
        "    buscabinariaordenado['tempo'][arquivo] = totalTimeo\n",
        "\n",
        "\n",
        "  return buscabinariaordenado\n",
        "\n",
        "dicbuscabinaria = buscaBinariaAuto(ordenados)\n",
        "\n",
        "with open(\"buscaBinaria.pkl\", \"wb\") as f:\n",
        "    # Usa a função dump para salvar o dicionário no arquivo\n",
        "    pickle.dump(dicbuscabinaria, f)\n"
      ]
    },
    {
      "cell_type": "markdown",
      "metadata": {
        "id": "9UOTlFVbX6sc"
      },
      "source": [
        "#Trabalho 2\n"
      ]
    },
    {
      "cell_type": "code",
      "execution_count": 3,
      "metadata": {
        "id": "ibVH73aWrYcj"
      },
      "outputs": [],
      "source": [
        "def memory_usage_psutil():\n",
        "    # retorna o uso de memória em bytes\n",
        "    process = psutil.Process(os.getpid())\n",
        "    mem_info = process.memory_info()\n",
        "    return mem_info.rss"
      ]
    },
    {
      "cell_type": "code",
      "execution_count": 8,
      "metadata": {
        "id": "SMD7WyZBbd6l"
      },
      "outputs": [],
      "source": [
        "def maxVal1(A, n):\n",
        "    max_val = A[0]\n",
        "    for i in range(1, n):\n",
        "        if A[i] > max_val:\n",
        "            max_val = A[i]\n",
        "    return max_val\n",
        "\n",
        "def buscamaxVal1Auto(naoordenados):\n",
        "\n",
        "  buscamaxval1 = {\"memoria\":{}, \"tempo\":{}}\n",
        "\n",
        "\n",
        "  for arquivo in (naoordenados):\n",
        "    array = []\n",
        "    with open(arquivo, 'r') as file:\n",
        "        reader = csv.reader(file)\n",
        "        for line in reader:\n",
        "            for token in line:\n",
        "                array.append(int(token))\n",
        "\n",
        "\n",
        "    # startMemory, _ = tracemalloc.get_traced_memory()\n",
        "  \n",
        "    startTime = time.time()\n",
        "    tracemalloc.start()\n",
        "    maxVal1(array, len(array))\n",
        "    _, totalMemory = tracemalloc.get_traced_memory()\n",
        "    endTime = time.time()\n",
        "    tracemalloc.stop()\n",
        "    #endMemory = memory_usage_psutil()\n",
        "    # endMemory, _ = tracemalloc.get_traced_memory()\n",
        "\n",
        "    totalTime = endTime - startTime\n",
        "    #totalMemory = (endMemory - startMemory)\n",
        "\n",
        "    buscamaxval1['memoria'][arquivo] = totalMemory\n",
        "    buscamaxval1['tempo'][arquivo] = totalTime\n",
        "\n",
        "\n",
        "  return buscamaxval1\n",
        "\n",
        "dicmaxVal1 = buscamaxVal1Auto(naoordenados)\n",
        "\n",
        "with open(\"buscamaxV1.pkl\", \"wb\") as f:\n",
        "    # Usa a função dump para salvar o dicionário no arquivo\n",
        "    pickle.dump(dicmaxVal1, f)"
      ]
    },
    {
      "cell_type": "code",
      "execution_count": 9,
      "metadata": {
        "colab": {
          "base_uri": "https://localhost:8080/"
        },
        "id": "U9IqpAx8IkK9",
        "outputId": "4e42e2f9-bdee-4491-ee88-197fd3afe9b3"
      },
      "outputs": [
        {
          "data": {
            "text/plain": [
              "{'memoria': {'C:\\\\Users\\\\franc\\\\Disciplinas\\\\Topicos Especiais em computacao 2\\\\Trabalho 1\\\\Nao_ordenados\\\\100.txt': 1032779,\n",
              "  'C:\\\\Users\\\\franc\\\\Disciplinas\\\\Topicos Especiais em computacao 2\\\\Trabalho 1\\\\Nao_ordenados\\\\200.txt': 80,\n",
              "  'C:\\\\Users\\\\franc\\\\Disciplinas\\\\Topicos Especiais em computacao 2\\\\Trabalho 1\\\\Nao_ordenados\\\\1000.txt': 140,\n",
              "  'C:\\\\Users\\\\franc\\\\Disciplinas\\\\Topicos Especiais em computacao 2\\\\Trabalho 1\\\\Nao_ordenados\\\\2000.txt': 140,\n",
              "  'C:\\\\Users\\\\franc\\\\Disciplinas\\\\Topicos Especiais em computacao 2\\\\Trabalho 1\\\\Nao_ordenados\\\\5000.txt': 140,\n",
              "  'C:\\\\Users\\\\franc\\\\Disciplinas\\\\Topicos Especiais em computacao 2\\\\Trabalho 1\\\\Nao_ordenados\\\\10000.txt': 140,\n",
              "  'C:\\\\Users\\\\franc\\\\Disciplinas\\\\Topicos Especiais em computacao 2\\\\Trabalho 1\\\\Nao_ordenados\\\\50000.txt': 140,\n",
              "  'C:\\\\Users\\\\franc\\\\Disciplinas\\\\Topicos Especiais em computacao 2\\\\Trabalho 1\\\\Nao_ordenados\\\\100000.txt': 140,\n",
              "  'C:\\\\Users\\\\franc\\\\Disciplinas\\\\Topicos Especiais em computacao 2\\\\Trabalho 1\\\\Nao_ordenados\\\\500000.txt': 140,\n",
              "  'C:\\\\Users\\\\franc\\\\Disciplinas\\\\Topicos Especiais em computacao 2\\\\Trabalho 1\\\\Nao_ordenados\\\\1000000.txt': 140,\n",
              "  'C:\\\\Users\\\\franc\\\\Disciplinas\\\\Topicos Especiais em computacao 2\\\\Trabalho 1\\\\Nao_ordenados\\\\5000000.txt': 1016,\n",
              "  'C:\\\\Users\\\\franc\\\\Disciplinas\\\\Topicos Especiais em computacao 2\\\\Trabalho 1\\\\Nao_ordenados\\\\10000000.txt': 1016,\n",
              "  'C:\\\\Users\\\\franc\\\\Disciplinas\\\\Topicos Especiais em computacao 2\\\\Trabalho 1\\\\Nao_ordenados\\\\100000000.txt': 2720},\n",
              " 'tempo': {'C:\\\\Users\\\\franc\\\\Disciplinas\\\\Topicos Especiais em computacao 2\\\\Trabalho 1\\\\Nao_ordenados\\\\100.txt': 0.0,\n",
              "  'C:\\\\Users\\\\franc\\\\Disciplinas\\\\Topicos Especiais em computacao 2\\\\Trabalho 1\\\\Nao_ordenados\\\\200.txt': 0.0,\n",
              "  'C:\\\\Users\\\\franc\\\\Disciplinas\\\\Topicos Especiais em computacao 2\\\\Trabalho 1\\\\Nao_ordenados\\\\1000.txt': 0.0009999275207519531,\n",
              "  'C:\\\\Users\\\\franc\\\\Disciplinas\\\\Topicos Especiais em computacao 2\\\\Trabalho 1\\\\Nao_ordenados\\\\2000.txt': 0.0019974708557128906,\n",
              "  'C:\\\\Users\\\\franc\\\\Disciplinas\\\\Topicos Especiais em computacao 2\\\\Trabalho 1\\\\Nao_ordenados\\\\5000.txt': 0.003997087478637695,\n",
              "  'C:\\\\Users\\\\franc\\\\Disciplinas\\\\Topicos Especiais em computacao 2\\\\Trabalho 1\\\\Nao_ordenados\\\\10000.txt': 0.011000871658325195,\n",
              "  'C:\\\\Users\\\\franc\\\\Disciplinas\\\\Topicos Especiais em computacao 2\\\\Trabalho 1\\\\Nao_ordenados\\\\50000.txt': 0.05499720573425293,\n",
              "  'C:\\\\Users\\\\franc\\\\Disciplinas\\\\Topicos Especiais em computacao 2\\\\Trabalho 1\\\\Nao_ordenados\\\\100000.txt': 0.10800051689147949,\n",
              "  'C:\\\\Users\\\\franc\\\\Disciplinas\\\\Topicos Especiais em computacao 2\\\\Trabalho 1\\\\Nao_ordenados\\\\500000.txt': 0.8719966411590576,\n",
              "  'C:\\\\Users\\\\franc\\\\Disciplinas\\\\Topicos Especiais em computacao 2\\\\Trabalho 1\\\\Nao_ordenados\\\\1000000.txt': 1.1660001277923584,\n",
              "  'C:\\\\Users\\\\franc\\\\Disciplinas\\\\Topicos Especiais em computacao 2\\\\Trabalho 1\\\\Nao_ordenados\\\\5000000.txt': 6.762999534606934,\n",
              "  'C:\\\\Users\\\\franc\\\\Disciplinas\\\\Topicos Especiais em computacao 2\\\\Trabalho 1\\\\Nao_ordenados\\\\10000000.txt': 11.799999713897705,\n",
              "  'C:\\\\Users\\\\franc\\\\Disciplinas\\\\Topicos Especiais em computacao 2\\\\Trabalho 1\\\\Nao_ordenados\\\\100000000.txt': 199.8225758075714}}"
            ]
          },
          "execution_count": 9,
          "metadata": {},
          "output_type": "execute_result"
        }
      ],
      "source": [
        "dicmaxVal1"
      ]
    },
    {
      "cell_type": "code",
      "execution_count": 10,
      "metadata": {
        "colab": {
          "base_uri": "https://localhost:8080/",
          "height": 417
        },
        "id": "FtJRIFA4cj-S",
        "outputId": "2aee42ec-c94d-4f5f-fc85-659e1c6d3803"
      },
      "outputs": [],
      "source": [
        "# def maxVal2(A, init, end):\n",
        "#     if end - init <= 1:\n",
        "#         return max(A[init], A[end-1])\n",
        "#     else:\n",
        "#         m = (init + end) // 2\n",
        "#         v1 = maxVal2(A, init, m)\n",
        "#         v2 = maxVal2(A, m+1, end)\n",
        "#         return max(v1, v2)\n",
        "\n",
        "def maxVal2(lista, inicio, fim):\n",
        "    # Caso base: se a lista tiver apenas um elemento\n",
        "    if inicio == fim:\n",
        "        return lista[inicio]\n",
        "\n",
        "    # Encontre o meio da lista\n",
        "    meio = (inicio + fim) // 2\n",
        "\n",
        "    # Recursivamente encontre o máximo na primeira metade da lista e na segunda metade\n",
        "    max1 = maxVal2(lista, inicio, meio)\n",
        "    max2 = maxVal2(lista, meio + 1, fim)\n",
        "\n",
        "    # Retorne o máximo dos dois valores\n",
        "    return max(max1, max2)\n",
        "\n",
        "\n",
        "def buscamaxVal2Auto(naoordenados):\n",
        "\n",
        "  buscamaxval2 = {\"memoria\":{}, \"tempo\":{}}\n",
        "\n",
        "\n",
        "  for arquivo in (naoordenados):\n",
        "    array = []\n",
        "    with open(arquivo, 'r') as file:\n",
        "        reader = csv.reader(file)\n",
        "        for line in reader:\n",
        "            for token in line:\n",
        "                array.append(int(token))\n",
        "\n",
        "\n",
        "    # startMemory, _ = tracemalloc.get_traced_memory()\n",
        "    startTime = time.time()\n",
        "    tracemalloc.start()\n",
        "    maxVal2(array, 0, len(array) - 1)\n",
        "    _, totalMemory = tracemalloc.get_traced_memory()\n",
        "    endTime = time.time()\n",
        "    tracemalloc.stop()\n",
        "    # endMemory, _ = tracemalloc.get_traced_memory()\n",
        "\n",
        "    totalTime = endTime - startTime\n",
        "    # totalMemory = (endMemory - startMemory)\n",
        "\n",
        "    buscamaxval2['memoria'][arquivo] = totalMemory\n",
        "    buscamaxval2['tempo'][arquivo] = totalTime\n",
        "\n",
        "\n",
        "  return buscamaxval2\n",
        "\n",
        "dicmaxVal2 = buscamaxVal2Auto(naoordenados)\n",
        "\n",
        "with open(\"buscamaxV2.pkl\", \"wb\") as f:\n",
        "    # Usa a função dump para salvar o dicionário no arquivo\n",
        "    pickle.dump(dicmaxVal2, f)"
      ]
    },
    {
      "cell_type": "code",
      "execution_count": 11,
      "metadata": {},
      "outputs": [
        {
          "data": {
            "text/plain": [
              "{'memoria': {'C:\\\\Users\\\\franc\\\\Disciplinas\\\\Topicos Especiais em computacao 2\\\\Trabalho 1\\\\Nao_ordenados\\\\100.txt': 3240,\n",
              "  'C:\\\\Users\\\\franc\\\\Disciplinas\\\\Topicos Especiais em computacao 2\\\\Trabalho 1\\\\Nao_ordenados\\\\200.txt': 504,\n",
              "  'C:\\\\Users\\\\franc\\\\Disciplinas\\\\Topicos Especiais em computacao 2\\\\Trabalho 1\\\\Nao_ordenados\\\\1000.txt': 1621,\n",
              "  'C:\\\\Users\\\\franc\\\\Disciplinas\\\\Topicos Especiais em computacao 2\\\\Trabalho 1\\\\Nao_ordenados\\\\2000.txt': 1092,\n",
              "  'C:\\\\Users\\\\franc\\\\Disciplinas\\\\Topicos Especiais em computacao 2\\\\Trabalho 1\\\\Nao_ordenados\\\\5000.txt': 1632,\n",
              "  'C:\\\\Users\\\\franc\\\\Disciplinas\\\\Topicos Especiais em computacao 2\\\\Trabalho 1\\\\Nao_ordenados\\\\10000.txt': 1232,\n",
              "  'C:\\\\Users\\\\franc\\\\Disciplinas\\\\Topicos Especiais em computacao 2\\\\Trabalho 1\\\\Nao_ordenados\\\\50000.txt': 1828,\n",
              "  'C:\\\\Users\\\\franc\\\\Disciplinas\\\\Topicos Especiais em computacao 2\\\\Trabalho 1\\\\Nao_ordenados\\\\100000.txt': 1428,\n",
              "  'C:\\\\Users\\\\franc\\\\Disciplinas\\\\Topicos Especiais em computacao 2\\\\Trabalho 1\\\\Nao_ordenados\\\\500000.txt': 1996,\n",
              "  'C:\\\\Users\\\\franc\\\\Disciplinas\\\\Topicos Especiais em computacao 2\\\\Trabalho 1\\\\Nao_ordenados\\\\1000000.txt': 2172,\n",
              "  'C:\\\\Users\\\\franc\\\\Disciplinas\\\\Topicos Especiais em computacao 2\\\\Trabalho 1\\\\Nao_ordenados\\\\5000000.txt': 3888,\n",
              "  'C:\\\\Users\\\\franc\\\\Disciplinas\\\\Topicos Especiais em computacao 2\\\\Trabalho 1\\\\Nao_ordenados\\\\10000000.txt': 3304,\n",
              "  'C:\\\\Users\\\\franc\\\\Disciplinas\\\\Topicos Especiais em computacao 2\\\\Trabalho 1\\\\Nao_ordenados\\\\100000000.txt': 6920},\n",
              " 'tempo': {'C:\\\\Users\\\\franc\\\\Disciplinas\\\\Topicos Especiais em computacao 2\\\\Trabalho 1\\\\Nao_ordenados\\\\100.txt': 0.001001596450805664,\n",
              "  'C:\\\\Users\\\\franc\\\\Disciplinas\\\\Topicos Especiais em computacao 2\\\\Trabalho 1\\\\Nao_ordenados\\\\200.txt': 0.0009999275207519531,\n",
              "  'C:\\\\Users\\\\franc\\\\Disciplinas\\\\Topicos Especiais em computacao 2\\\\Trabalho 1\\\\Nao_ordenados\\\\1000.txt': 0.00600886344909668,\n",
              "  'C:\\\\Users\\\\franc\\\\Disciplinas\\\\Topicos Especiais em computacao 2\\\\Trabalho 1\\\\Nao_ordenados\\\\2000.txt': 0.012997865676879883,\n",
              "  'C:\\\\Users\\\\franc\\\\Disciplinas\\\\Topicos Especiais em computacao 2\\\\Trabalho 1\\\\Nao_ordenados\\\\5000.txt': 0.033998727798461914,\n",
              "  'C:\\\\Users\\\\franc\\\\Disciplinas\\\\Topicos Especiais em computacao 2\\\\Trabalho 1\\\\Nao_ordenados\\\\10000.txt': 0.09600162506103516,\n",
              "  'C:\\\\Users\\\\franc\\\\Disciplinas\\\\Topicos Especiais em computacao 2\\\\Trabalho 1\\\\Nao_ordenados\\\\50000.txt': 0.3770005702972412,\n",
              "  'C:\\\\Users\\\\franc\\\\Disciplinas\\\\Topicos Especiais em computacao 2\\\\Trabalho 1\\\\Nao_ordenados\\\\100000.txt': 1.1769983768463135,\n",
              "  'C:\\\\Users\\\\franc\\\\Disciplinas\\\\Topicos Especiais em computacao 2\\\\Trabalho 1\\\\Nao_ordenados\\\\500000.txt': 4.019001007080078,\n",
              "  'C:\\\\Users\\\\franc\\\\Disciplinas\\\\Topicos Especiais em computacao 2\\\\Trabalho 1\\\\Nao_ordenados\\\\1000000.txt': 9.655999422073364,\n",
              "  'C:\\\\Users\\\\franc\\\\Disciplinas\\\\Topicos Especiais em computacao 2\\\\Trabalho 1\\\\Nao_ordenados\\\\5000000.txt': 36.16699838638306,\n",
              "  'C:\\\\Users\\\\franc\\\\Disciplinas\\\\Topicos Especiais em computacao 2\\\\Trabalho 1\\\\Nao_ordenados\\\\10000000.txt': 72.05600118637085,\n",
              "  'C:\\\\Users\\\\franc\\\\Disciplinas\\\\Topicos Especiais em computacao 2\\\\Trabalho 1\\\\Nao_ordenados\\\\100000000.txt': 1001.5463080406189}}"
            ]
          },
          "execution_count": 11,
          "metadata": {},
          "output_type": "execute_result"
        }
      ],
      "source": [
        "dicmaxVal2"
      ]
    },
    {
      "cell_type": "code",
      "execution_count": null,
      "metadata": {
        "id": "gjCRT8wKNcZB"
      },
      "outputs": [],
      "source": [
        "import random\n",
        "\n",
        "numeros = [random.randint(0, 10000) for _ in range(100000)] # gera 5000 números aleatórios entre 0 e 10000\n",
        "linhas = [\",\".join(map(str, numeros[i:i+10])) for i in range(0, len(numeros), 10)] # divide os números em linhas de 10 elementos e converte para string\n",
        "\n",
        "with open(\"100000000.txt\", \"w\") as arquivo:\n",
        "    arquivo.write(\"\\n\".join(linhas)) # escreve as linhas no arquivo, separadas por quebra de linha\n"
      ]
    },
    {
      "cell_type": "code",
      "execution_count": 4,
      "metadata": {
        "id": "OMAAnVavQtHj"
      },
      "outputs": [],
      "source": [
        "nome_arquivo = 'buscamaxV1.pkl'\n",
        "with open(nome_arquivo, 'rb') as arquivo:\n",
        "    buscamaxV1 = pickle.load(arquivo)"
      ]
    },
    {
      "cell_type": "code",
      "execution_count": 5,
      "metadata": {},
      "outputs": [],
      "source": [
        "nome_arquivo = 'buscamaxV2.pkl'\n",
        "with open(nome_arquivo, 'rb') as arquivo:\n",
        "    buscamaxV2 = pickle.load(arquivo)"
      ]
    },
    {
      "cell_type": "code",
      "execution_count": null,
      "metadata": {},
      "outputs": [],
      "source": [
        "buscamaxV2"
      ]
    },
    {
      "cell_type": "code",
      "execution_count": 17,
      "metadata": {
        "colab": {
          "base_uri": "https://localhost:8080/"
        },
        "id": "IJVIUsAxTrr6",
        "outputId": "e774034c-2345-4725-96ce-ae05457d34e1"
      },
      "outputs": [
        {
          "data": {
            "text/plain": [
              "{'C:\\\\Users\\\\franc\\\\Disciplinas\\\\Topicos Especiais em computacao 2\\\\Trabalho 1\\\\Nao_ordenados\\\\100.txt': 1032779,\n",
              " 'C:\\\\Users\\\\franc\\\\Disciplinas\\\\Topicos Especiais em computacao 2\\\\Trabalho 1\\\\Nao_ordenados\\\\200.txt': 80,\n",
              " 'C:\\\\Users\\\\franc\\\\Disciplinas\\\\Topicos Especiais em computacao 2\\\\Trabalho 1\\\\Nao_ordenados\\\\1000.txt': 140,\n",
              " 'C:\\\\Users\\\\franc\\\\Disciplinas\\\\Topicos Especiais em computacao 2\\\\Trabalho 1\\\\Nao_ordenados\\\\2000.txt': 140,\n",
              " 'C:\\\\Users\\\\franc\\\\Disciplinas\\\\Topicos Especiais em computacao 2\\\\Trabalho 1\\\\Nao_ordenados\\\\5000.txt': 140,\n",
              " 'C:\\\\Users\\\\franc\\\\Disciplinas\\\\Topicos Especiais em computacao 2\\\\Trabalho 1\\\\Nao_ordenados\\\\10000.txt': 140,\n",
              " 'C:\\\\Users\\\\franc\\\\Disciplinas\\\\Topicos Especiais em computacao 2\\\\Trabalho 1\\\\Nao_ordenados\\\\50000.txt': 140,\n",
              " 'C:\\\\Users\\\\franc\\\\Disciplinas\\\\Topicos Especiais em computacao 2\\\\Trabalho 1\\\\Nao_ordenados\\\\100000.txt': 140,\n",
              " 'C:\\\\Users\\\\franc\\\\Disciplinas\\\\Topicos Especiais em computacao 2\\\\Trabalho 1\\\\Nao_ordenados\\\\500000.txt': 140,\n",
              " 'C:\\\\Users\\\\franc\\\\Disciplinas\\\\Topicos Especiais em computacao 2\\\\Trabalho 1\\\\Nao_ordenados\\\\1000000.txt': 140,\n",
              " 'C:\\\\Users\\\\franc\\\\Disciplinas\\\\Topicos Especiais em computacao 2\\\\Trabalho 1\\\\Nao_ordenados\\\\5000000.txt': 1016,\n",
              " 'C:\\\\Users\\\\franc\\\\Disciplinas\\\\Topicos Especiais em computacao 2\\\\Trabalho 1\\\\Nao_ordenados\\\\10000000.txt': 1016,\n",
              " 'C:\\\\Users\\\\franc\\\\Disciplinas\\\\Topicos Especiais em computacao 2\\\\Trabalho 1\\\\Nao_ordenados\\\\100000000.txt': 2720}"
            ]
          },
          "execution_count": 17,
          "metadata": {},
          "output_type": "execute_result"
        }
      ],
      "source": [
        "buscamaxV1['memoria']"
      ]
    },
    {
      "cell_type": "code",
      "execution_count": null,
      "metadata": {
        "id": "rOWz2qP6eLNG"
      },
      "outputs": [],
      "source": [
        "BuscaCubica_time = {key: value for key, value in BuscaCubica_time.items() if key <= 5000}"
      ]
    },
    {
      "cell_type": "code",
      "execution_count": null,
      "metadata": {
        "colab": {
          "base_uri": "https://localhost:8080/"
        },
        "id": "edzpv9GbeT7_",
        "outputId": "bd89f94e-bf3a-4f2b-ba02-042a78aa52e0"
      },
      "outputs": [
        {
          "data": {
            "text/plain": [
              "{100: 50892000,\n",
              " 200: 330701200,\n",
              " 1000: 646782435100,\n",
              " 2000: 6141455403500,\n",
              " 5000: 95764141783600}"
            ]
          },
          "execution_count": 55,
          "metadata": {},
          "output_type": "execute_result"
        }
      ],
      "source": [
        "BuscaCubica_time"
      ]
    },
    {
      "cell_type": "code",
      "execution_count": 27,
      "metadata": {},
      "outputs": [
        {
          "data": {
            "text/plain": [
              "dict_values([0.001001596450805664, 0.0009999275207519531, 0.00600886344909668, 0.012997865676879883, 0.033998727798461914, 0.09600162506103516, 0.3770005702972412, 1.1769983768463135, 4.019001007080078, 9.655999422073364, 36.16699838638306, 72.05600118637085, 1001.5463080406189])"
            ]
          },
          "execution_count": 27,
          "metadata": {},
          "output_type": "execute_result"
        }
      ],
      "source": [
        "buscamaxV2['tempo'].values()"
      ]
    },
    {
      "cell_type": "code",
      "execution_count": 26,
      "metadata": {
        "colab": {
          "base_uri": "https://localhost:8080/",
          "height": 472
        },
        "id": "-2aeDC9cXXbW",
        "outputId": "30572446-630d-4eb4-92fe-4f46111cb495"
      },
      "outputs": [
        {
          "data": {
            "image/png": "[encoded data removed]",
            "text/plain": [
              "<Figure size 640x480 with 1 Axes>"
            ]
          },
          "metadata": {},
          "output_type": "display_data"
        }
      ],
      "source": [
        "#data = {'tempo': {'arquivo1': 1, 'arquivo2': 2, 'arquivo3': 3, 'arquivo4': 4, 'arquivo5': 5, 'arquivo6': 6, 'arquivo7': 7, 'arquivo8': 8, 'arquivo9': 9, 'arquivo10': 10},\n",
        "#        'memoria': {'arquivo1': 10, 'arquivo2': 20, 'arquivo3': 30, 'arquivo4': 40, 'arquivo5': 50, 'arquivo6': 60, 'arquivo7': 70, 'arquivo8': 80, 'arquivo9': 90, 'arquivo10': 100}}\n",
        "\n",
        "x = range(1, len(buscamaxV2['tempo']) + 1)\n",
        "y = buscamaxV2['tempo'].values()\n",
        "\n",
        "plt.plot(x, y)\n",
        "plt.title('Valor máximo V2, Dados vs tempo')\n",
        "plt.xlabel('Dados')\n",
        "plt.ylabel('Tempo(s)')\n",
        "plt.xticks(x)\n",
        "plt.show()"
      ]
    },
    {
      "cell_type": "code",
      "execution_count": 18,
      "metadata": {
        "colab": {
          "base_uri": "https://localhost:8080/"
        },
        "id": "vD-IZaLzdgkD",
        "outputId": "666f5c8a-6e20-407e-fc11-faa2b8f80381"
      },
      "outputs": [
        {
          "data": {
            "text/plain": [
              "dict_values([1032779, 80, 140, 140, 140, 140, 140, 140, 140, 140, 1016, 1016, 2720])"
            ]
          },
          "execution_count": 18,
          "metadata": {},
          "output_type": "execute_result"
        }
      ],
      "source": [
        "buscamaxV1['memoria'].values()"
      ]
    },
    {
      "cell_type": "code",
      "execution_count": 10,
      "metadata": {},
      "outputs": [
        {
          "data": {
            "text/plain": [
              "dict_values([0.0, 0.0, 0.0009999275207519531, 0.0019974708557128906, 0.003997087478637695, 0.011000871658325195, 0.05499720573425293, 0.10800051689147949, 0.8719966411590576, 1.1660001277923584, 6.762999534606934, 11.799999713897705, 199.8225758075714])"
            ]
          },
          "execution_count": 10,
          "metadata": {},
          "output_type": "execute_result"
        }
      ],
      "source": [
        "buscamaxV1['tempo'].values()"
      ]
    },
    {
      "cell_type": "code",
      "execution_count": 11,
      "metadata": {},
      "outputs": [
        {
          "data": {
            "text/plain": [
              "dict_values([3240, 504, 1621, 1092, 1632, 1232, 1828, 1428, 1996, 2172, 3888, 3304, 6920])"
            ]
          },
          "execution_count": 11,
          "metadata": {},
          "output_type": "execute_result"
        }
      ],
      "source": [
        "buscamaxV2['memoria'].values()"
      ]
    },
    {
      "cell_type": "code",
      "execution_count": 12,
      "metadata": {},
      "outputs": [
        {
          "data": {
            "text/plain": [
              "dict_values([0.001001596450805664, 0.0009999275207519531, 0.00600886344909668, 0.012997865676879883, 0.033998727798461914, 0.09600162506103516, 0.3770005702972412, 1.1769983768463135, 4.019001007080078, 9.655999422073364, 36.16699838638306, 72.05600118637085, 1001.5463080406189])"
            ]
          },
          "execution_count": 12,
          "metadata": {},
          "output_type": "execute_result"
        }
      ],
      "source": [
        "buscamaxV2['tempo'].values()"
      ]
    },
    {
      "cell_type": "code",
      "execution_count": 33,
      "metadata": {
        "colab": {
          "base_uri": "https://localhost:8080/",
          "height": 472
        },
        "id": "6NWZqp22jgTm",
        "outputId": "9a7f2db6-9311-446d-9516-9f4139442a89"
      },
      "outputs": [
        {
          "data": {
            "image/png": "[encoded data removed]",
            "text/plain": [
              "<Figure size 640x480 with 1 Axes>"
            ]
          },
          "metadata": {},
          "output_type": "display_data"
        }
      ],
      "source": [
        "x = range(1, len(buscamaxV2['memoria']) + 1)\n",
        "y = buscamaxV2['memoria'].values()\n",
        "\n",
        "plt.plot(x, y)\n",
        "plt.title('Valor máximo V2, Dados vs Memória')\n",
        "plt.xlabel('Dados')\n",
        "plt.ylabel('Memória(B)')\n",
        "plt.xticks(x)\n",
        "plt.ticklabel_format(style='plain', axis='y')\n",
        "plt.show()"
      ]
    },
    {
      "cell_type": "code",
      "execution_count": 9,
      "metadata": {},
      "outputs": [
        {
          "data": {
            "image/png": "[encoded data removed]",
            "text/plain": [
              "<Figure size 640x480 with 1 Axes>"
            ]
          },
          "metadata": {},
          "output_type": "display_data"
        }
      ],
      "source": [
        "x = range(1, len(buscamaxV2['tempo']) + 1)\n",
        "y1 = buscamaxV1['tempo'].values()\n",
        "y2 = buscamaxV2['tempo'].values()\n",
        "\n",
        "plt.plot(x, y1, label='busca max v1')\n",
        "plt.plot(x, y2, label='busca max v2')\n",
        "plt.title('Comparação dos dois algoritmos, Dados vs Tempo')\n",
        "plt.xlabel('Dados')\n",
        "plt.ylabel('Tempo(s)')\n",
        "plt.xticks(x)\n",
        "plt.legend()\n",
        "plt.show()"
      ]
    },
    {
      "cell_type": "code",
      "execution_count": 41,
      "metadata": {},
      "outputs": [
        {
          "data": {
            "image/png": "[encoded data removed]",
            "text/plain": [
              "<Figure size 640x480 with 1 Axes>"
            ]
          },
          "metadata": {},
          "output_type": "display_data"
        }
      ],
      "source": [
        "x = range(1, len(buscamaxV2['memoria']))\n",
        "y1 = list(buscamaxV1['memoria'].values())\n",
        "y1.pop(0)\n",
        "y2 = list(buscamaxV2['memoria'].values())\n",
        "y2.pop(0)\n",
        "\n",
        "plt.plot(x, y1, label='busca max v1')\n",
        "plt.plot(x, y2, label='busca max v2')\n",
        "plt.title('Comparação dos dois algoritmos, Dados vs Memória')\n",
        "plt.xlabel('Dados')\n",
        "plt.ylabel('Memória(B)')\n",
        "plt.xticks(x)\n",
        "plt.legend()\n",
        "plt.show()"
      ]
    },
    {
      "cell_type": "markdown",
      "metadata": {
        "id": "rCEHR7C1RnTF"
      },
      "source": [
        "#Códigos opcionais"
      ]
    },
    {
      "cell_type": "code",
      "execution_count": null,
      "metadata": {
        "colab": {
          "base_uri": "https://localhost:8080/"
        },
        "id": "A3tZVKRMdR9v",
        "outputId": "8b37e175-e72a-4ecc-e542-650bde751b0f"
      },
      "outputs": [
        {
          "name": "stdout",
          "output_type": "stream",
          "text": [
            "-1\n",
            "Tempo gasto: 0.11809849739074707\n",
            "Memória usada: 0.00058746337890625 MB\n"
          ]
        }
      ],
      "source": [
        "#Busca Cubica\n",
        "\n",
        "def BuscaCubica(vet, numeroProcurado):\n",
        "  posicao = -1\n",
        "  for i in range(len(vet)):\n",
        "      for j in range(len(vet)):\n",
        "          for l in range(len(vet)):\n",
        "              if vet[i] == numeroProcurado and vet[j] == numeroProcurado and vet[l] == numeroProcurado:\n",
        "                  posicao = i\n",
        "  return posicao\n",
        "\n",
        "\n",
        "fileName = \"/content/100.txt\"\n",
        "array = []\n",
        "with open(fileName, 'r') as file:\n",
        "    reader = csv.reader(file)\n",
        "    for line in reader:\n",
        "        for token in line:\n",
        "            array.append(int(token))\n",
        "\n",
        "tracemalloc.start()\n",
        "\n",
        "\n",
        "\n",
        "startMemory, _ = tracemalloc.get_traced_memory()\n",
        "startTime = time.time()\n",
        "print(BuscaCubica(array, 1000))\n",
        "endTime = time.time()\n",
        "endMemory, _ = tracemalloc.get_traced_memory()\n",
        "\n",
        "totalTime = endTime - startTime\n",
        "totalMemory = (endMemory - startMemory)\n",
        "\n",
        "print(f\"Tempo gasto: {totalTime}\")\n",
        "print(f\"Memória usada: {totalMemory} MB\")"
      ]
    },
    {
      "cell_type": "code",
      "execution_count": null,
      "metadata": {
        "colab": {
          "base_uri": "https://localhost:8080/"
        },
        "id": "8rPyWWacdSLq",
        "outputId": "9764bc4f-9fc8-4c33-b20b-f81c793669cc"
      },
      "outputs": [
        {
          "name": "stdout",
          "output_type": "stream",
          "text": [
            "Posicao: 6 - contador de repeticao: 1\n"
          ]
        }
      ],
      "source": [
        "#Busca Quadratica\n",
        "\n",
        "def BuscaQuadratica(vet, numeroProcurado):\n",
        "  contador = 0\n",
        "  posicao = -1\n",
        "  entrou = False\n",
        "  for i in range(len(vet)):\n",
        "      for j in range(i, len(vet)):\n",
        "          if vet[i] == numeroProcurado:\n",
        "              if not entrou:\n",
        "                  posicao = i\n",
        "                  if vet[j] == numeroProcurado:\n",
        "                      contador += 1\n",
        "      if contador > 0:\n",
        "          entrou = True\n",
        "  if entrou:\n",
        "      print(\"Posicao: \" + str(posicao) + \" - contador de repeticao: \" + str(contador))\n",
        "\n"
      ]
    },
    {
      "cell_type": "code",
      "execution_count": null,
      "metadata": {
        "id": "URze4TzUT_4Y"
      },
      "outputs": [],
      "source": [
        "import matplotlib.pyplot as plt\n",
        "\n",
        "#data = {'tempo': {'arquivo1': 1, 'arquivo2': 2, 'arquivo3': 3, 'arquivo4': 4, 'arquivo5': 5, 'arquivo6': 6, 'arquivo7': 7, 'arquivo8': 8, 'arquivo9': 9, 'arquivo10': 10},\n",
        "#        'memoria': {'arquivo1': 10, 'arquivo2': 20, 'arquivo3': 30, 'arquivo4': 40, 'arquivo5': 50, 'arquivo6': 60, 'arquivo7': 70, 'arquivo8': 80, 'arquivo9': 90, 'arquivo10': 100}}\n",
        "\n",
        "x = range(1, len(v1ordenado['tempo']) + 1)\n",
        "y = v1ordenado['tempo'].values()\n",
        "\n",
        "plt.plot(x, y)\n",
        "plt.title('Busca Sequencial V1, dados ordenados (elemento do fim)')\n",
        "plt.xlabel('Dados')\n",
        "plt.ylabel('Tempo(s)')\n",
        "plt.xticks(x)\n",
        "plt.show()"
      ]
    }
  ],
  "metadata": {
    "accelerator": "GPU",
    "colab": {
      "collapsed_sections": [
        "S1nyVR4GXqXL",
        "rCEHR7C1RnTF"
      ],
      "gpuType": "T4",
      "provenance": []
    },
    "kernelspec": {
      "display_name": "Python 3",
      "name": "python3"
    },
    "language_info": {
      "codemirror_mode": {
        "name": "ipython",
        "version": 3
      },
      "file_extension": ".py",
      "mimetype": "text/x-python",
      "name": "python",
      "nbconvert_exporter": "python",
      "pygments_lexer": "ipython3",
      "version": "3.10.6"
    }
  },
  "nbformat": 4,
  "nbformat_minor": 0
}
